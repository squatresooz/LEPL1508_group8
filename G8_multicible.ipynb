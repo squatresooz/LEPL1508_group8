{
 "cells": [
  {
   "cell_type": "markdown",
   "id": "5bbb7f88",
   "metadata": {},
   "source": [
    "## Utilisation du Notebook\n",
    "- Exécuter les différentes cellules pour un fichier de calibration (indiquer la distance connue a laquelle la calibration c'est effectuée pour également calibrer en distance).\n",
    "- Noter les valeurs de calibration obtenue et mettre à jour sa valeur dans la cellule *calib*.\n",
    "- Vérifier en relançant la cellule *Angle*, que l'angle est bien de 90° (réference 1) / 0° (référence 2).\n",
    "- Ré-exécuter l'ensemble des cellules pour le ficher souhaité et ne pas oublier d'indiquer le nombre de cibles a détecter."
   ]
  },
  {
   "cell_type": "markdown",
   "id": "7ff4b137",
   "metadata": {},
   "source": [
    "### Import"
   ]
  },
  {
   "cell_type": "code",
   "execution_count": 1,
   "id": "57d38a7f",
   "metadata": {},
   "outputs": [],
   "source": [
    "import numpy as np\n",
    "import matplotlib.pyplot as plt\n",
    "from matplotlib.animation import ArtistAnimation\n",
    "import matplotlib.animation as animation\n",
    "import os\n",
    "from scipy.signal import argrelextrema\n",
    "import scipy.ndimage as ndimage\n",
    "import scipy.ndimage.filters as filters\n",
    "import matplotlib.colors as mcolors\n",
    "# %matplotlib widget"
   ]
  },
  {
   "cell_type": "markdown",
   "id": "d5b7a7ee",
   "metadata": {},
   "source": [
    "### Options"
   ]
  },
  {
   "cell_type": "code",
   "execution_count": 2,
   "id": "3afe9c52",
   "metadata": {},
   "outputs": [],
   "source": [
    "Process = True                   #lancer l'extraction et le processing du fichier\n",
    "file = \"Mesures_CapScience1/CSm_straightline_4m-4m.npz\"\n",
    "\n",
    "# Affichage\n",
    "plotXY = True                    # Plot des différentes cible en mode X-Y\n",
    "plotDV = True                    # Plot des différentes cible en mode D-V\n",
    "\n",
    "# Options du système\n",
    "calibration = False              # Fichier de calibration\n",
    "delete_pause = True              # Retirer les pauses entre les chirps ?\n",
    "Angle = False                    # Calcul la moyenne de l'angle calculé\n",
    "\n",
    "d_connue = 5                     # Distance connue pour la calibration\n",
    "prec = 1000                      # Précision pour la recherche des poids pour l'angle\n",
    "nb_object = 2                    # Nombre d'objets qu'on veut distinguer"
   ]
  },
  {
   "cell_type": "markdown",
   "id": "fc41d2ca",
   "metadata": {},
   "source": [
    "### Extraction et Processing des données"
   ]
  },
  {
   "cell_type": "code",
   "execution_count": 3,
   "id": "6274cb3b",
   "metadata": {},
   "outputs": [
    {
     "name": "stdout",
     "output_type": "stream",
     "text": [
      "Données disponibles (clés) :  ['data', 'data_times', 'background', 'background_times', 'chirp', 'datetime']\n",
      "\n",
      "------------ \t Informations \t ------------ \n",
      "f_0 = 2.40E+09 \n",
      "B = 8.35E+07 \n",
      "Ms = 32.0 \n",
      "Mc = 32.0 \n",
      "Ts = 2.00E-05 \n",
      "Tc = 1.00E-03 \n",
      "\n"
     ]
    }
   ],
   "source": [
    "if Process:\n",
    "    c = 3*1e8     # vitesse de la lumière\n",
    "    rm = 0.0625   # distance entre les antennes 1 et 2\n",
    "    \n",
    "    datas = np.load(file)\n",
    "    files = datas.files\n",
    "    print(\"Données disponibles (clés) : \", files)\n",
    "    # Récupère les informations\n",
    "    f0 = datas['chirp'][0]\n",
    "    B = datas['chirp'][1]\n",
    "    Ms = int(datas['chirp'][2]) # nombre de points par chirp (sans les pauses, uniquement les échantillons utiles)    \n",
    "    Mc = int(datas['chirp'][3]) # nombre de chirp dans une frame d'acquisition\n",
    "    Ts = datas['chirp'][4]\n",
    "    Tc = datas['chirp'][5]\n",
    "    T = Ts*Ms\n",
    "\n",
    "    la = c/f0            # longueur d'onde\n",
    "    k = 2*np.pi / la     # nombre d'onde\n",
    "\n",
    "    print(\"\\n------------ \\t Informations \\t ------------ \\nf_0 = {:.2E} \\nB = {:.2E} \\nMs = {} \\nMc = {} \\nTs = {:.2E} \\nTc = {:.2E} \\n\".format(\n",
    "           datas[\"chirp\"][0], datas[\"chirp\"][1],datas[\"chirp\"][2],datas[\"chirp\"][3],datas[\"chirp\"][4],datas[\"chirp\"][5]))\n",
    "\n",
    "    data = datas[\"data\"]\n",
    "    data_times = datas[\"data_times\"]\n",
    "    background = datas[\"background\"]\n",
    "\n",
    "    N_frames = len(data) \n",
    "    N_frames_back = len(background)\n",
    "\n",
    "    er1 = np.zeros((N_frames,Mc*Ms), dtype=complex)\n",
    "    er2 = np.zeros((N_frames,Mc*Ms), dtype=complex)\n",
    "\n",
    "    if delete_pause:\n",
    "        Nppause = round((Tc-T)/Ts) # nombre de points sur une pause\n",
    "    else:\n",
    "        Nppause = 0\n",
    "\n",
    "    nx = 500 ; ny = 500 # Résolution Range Doppler Map (Note : jusque 500*500 instantané)\n",
    "\n",
    "    Matrix_corr_ifft_1 = np.zeros((N_frames,nx,ny))\n",
    "    Matrix_corr_ifft_2 = np.zeros((N_frames,nx,ny))\n",
    "\n",
    "    background_eff_I1 = np.delete(np.reshape(background[1][0],(Mc,Ms+Nppause)),[np.arange(-Nppause,0,1)],1)\n",
    "    background_eff_Q1 = np.delete(np.reshape(background[1][1],(Mc,Ms+Nppause)),[np.arange(-Nppause,0,1)],1)\n",
    "    background_eff_I2 = np.delete(np.reshape(background[1][2],(Mc,Ms+Nppause)),[np.arange(-Nppause,0,1)],1)\n",
    "    background_eff_Q2 = np.delete(np.reshape(background[1][3],(Mc,Ms+Nppause)),[np.arange(-Nppause,0,1)],1)\n",
    "\n",
    "    for i in range(N_frames):\n",
    "        I1 = np.delete(np.reshape(data[i][0],(Mc,Ms+Nppause)),[np.arange(-Nppause,0,1)],1) - background_eff_I1 \n",
    "        Q1 = np.delete(np.reshape(data[i][1],(Mc,Ms+Nppause)),[np.arange(-Nppause,0,1)],1) - background_eff_Q1\n",
    "        I2 = np.delete(np.reshape(data[i][2],(Mc,Ms+Nppause)),[np.arange(-Nppause,0,1)],1) - background_eff_I2\n",
    "        Q2 = np.delete(np.reshape(data[i][3],(Mc,Ms+Nppause)),[np.arange(-Nppause,0,1)],1) - background_eff_Q2\n",
    "\n",
    "        er1_matrix = I1 + 1j*Q1\n",
    "        er1_matrix = er1_matrix - er1_matrix.mean(axis=0) #supp vitesse nulle enveloppe antenne 1\n",
    "        er2_matrix = I2 + 1j*Q2\n",
    "        er2_matrix = er2_matrix - er2_matrix.mean(axis=0) #supp vitesse nulle enveloppe antenne 2\n",
    "\n",
    "        er1[i] = np.reshape(er1_matrix,Ms*Mc)\n",
    "        er2[i] = np.reshape(er2_matrix,Ms*Mc)\n",
    "\n",
    "        # Nombre de rotations : pour le imshow : 3 - pour picoradar :0\n",
    "        n_rot = 3\n",
    "        Matrix_corr_ifft_1[i] = np.rot90(np.fft.fftshift(abs((np.fft.ifft2(er1_matrix,s=[nx,ny])))**2,axes=(0,)),n_rot) #FFT\n",
    "        Matrix_corr_ifft_2[i] = np.rot90(np.fft.fftshift(abs((np.fft.ifft2(er2_matrix,s=[nx,ny])))**2,axes=(0,)),n_rot) #FFT\n",
    "\n",
    "    range_ = np.linspace(0,Ms,ny,endpoint = True)*c/(2*B)                   #axe y (distance)\n",
    "    speed = np.linspace(-Mc/2,Mc/2,nx,endpoint = True)*(c/(4*f0*Tc*Mc))     #axe x (vitesse)"
   ]
  },
  {
   "cell_type": "markdown",
   "id": "acf99da3",
   "metadata": {},
   "source": [
    "### Calibration"
   ]
  },
  {
   "cell_type": "code",
   "execution_count": 4,
   "id": "e300ff59",
   "metadata": {},
   "outputs": [
    {
     "name": "stdout",
     "output_type": "stream",
     "text": [
      "Done: 'Calibration' \n"
     ]
    }
   ],
   "source": [
    "if calibration: \n",
    "    def computeDistanceCalibration(NFrame, Matrix_corr_ifft):\n",
    "        distances_max = np.zeros(NFrame)\n",
    "        for frame in range(NFrame):\n",
    "            test = np.zeros(ny)\n",
    "            for i in range(ny):\n",
    "                test[i] = max(Matrix_corr_ifft[frame][i])\n",
    "            index = np.argmax(test)\n",
    "            distances_max[frame] = range_[index]\n",
    "        return distances_max\n",
    "    calib_dist = computeDistanceCalibration(N_frames, Matrix_corr_ifft_1)\n",
    "    calib_dist_m = d_connue - np.mean(calib_dist)\n",
    "    print(\"Calibration en distance pour le fichier {} : {}\".format(os.path.basename(file), calib_dist_m))\n",
    "    \n",
    "    def computeAngleCalibration(NFrame, precision, er1, er2):\n",
    "        arg = np.cos(np.linspace(0, np.pi, precision, endpoint=True)) * k * rm\n",
    "        W = np.exp(-1j*arg) # Poids possibles\n",
    "        expr = np.zeros((NFrame, precision))\n",
    "        deph = np.zeros(NFrame)\n",
    "        # Approche \"brut-force\" -> cherche le poids maximal\n",
    "        # Pour chaque frame\n",
    "        for frame in range(NFrame):\n",
    "            # Pour chacun des poids\n",
    "            for i in range(precision):\n",
    "                expr[frame][i] = np.linalg.norm(np.abs(er1[frame] + er2[frame]*W[i]))\n",
    "            # Maximisation\n",
    "            index = np.argmax(expr[frame])\n",
    "            am = arg[index]\n",
    "            # Calibration en phase : phi_reel =  90°\n",
    "            # arg = k*d*cos(phi_reel) + calib = calib \n",
    "            deph[frame] = am\n",
    "        return deph\n",
    "    \n",
    "    calib_angle = computeAngleCalibration(N_frames, prec, er1,er2)\n",
    "    calib_angle_m = np.mean(calib_angle)\n",
    "    print(\"Calibration pour le fichier {} : {}\".format(os.path.basename(file), calib_angle_m))\n",
    "\n",
    "################ TODO : Compléter les valeurs ici pour les différents fichiers de calibration ########################\n",
    "# 'calib4m.npz' : -2.0595442381769518 (Labo angle)\n",
    "# 'Calib_2planches' : -2.1062676250705 (Mesures Dédra-math-isons)\n",
    "# 'CS_calib5' : -2.3889575558302223 (Mesures Cap-science mardi S10)\n",
    "# 'CS_Cal5m' : -2.628574514298058 (Mesures Cap-science mardi S10)\n",
    "calib_dist = -2.3889575558302223\n",
    "range_ += calib_dist\n",
    "\n",
    "# 'calib0.npz : 1.6210092660592235\n",
    "# 'calib4m.npz' : -1.744230315312696 (Labo angle)\n",
    "# 'CAL8.npz' : -1.7429451624849528   (Labo 1)\n",
    "# 'Calib_2planches' : -1.1282516845885786 (Mesures Dédra-math-isons)\n",
    "# 'CS_calib5' -0.760743612510135 (Mesures Cap-science mardi S10)\n",
    "# 'CS_Cal5m' : -0.8303473137223307 (Mesures Cap-science mardi S10)\n",
    "calib_angle = -0.760743612510135\n",
    "print(\"Done: 'Calibration' \")"
   ]
  },
  {
   "cell_type": "markdown",
   "id": "a9ba0e64",
   "metadata": {},
   "source": [
    "### Angle\n",
    "\n",
    "Attention aux **références** ! \n",
    "\n",
    "- Référence 1 : $\\phi \\triangleq \\angle (\\hat{u} , \\vec{r}_m)$ $\\Rightarrow$ Erreur à 90° près.\n",
    "- Référence 2 : $\\phi \\triangleq \\angle (\\hat{u} , \\hat{n})$ , où $\\hat{n}$ est la normale au plan des antennes. $\\Rightarrow$ Erreur au signe près."
   ]
  },
  {
   "cell_type": "code",
   "execution_count": 5,
   "id": "13822c18",
   "metadata": {},
   "outputs": [
    {
     "name": "stdout",
     "output_type": "stream",
     "text": [
      "Done: 'Angle' \n"
     ]
    }
   ],
   "source": [
    "def radToDeg(a):\n",
    "    return a*180/np.pi\n",
    "\n",
    "def degToRad(a):\n",
    "    return a*np.pi/180\n",
    "\n",
    "def ref1Toref2(a):\n",
    "    # Passage de la référence 1 (angle entre u et rm) \n",
    "    # à la référence 2 (angle mesuré par rapport à la perpendiculaire, positif à \"droite\" négatif à \"gauche\")\n",
    "    if(a > np.pi or a < 0):\n",
    "        print(\"Angle invalide\")\n",
    "        return -1\n",
    "    else :\n",
    "        return (np.pi/2) - a\n",
    "    \n",
    "def computeAngle(NFrame, precision, er1, er2, calib):\n",
    "    lp = np.linspace(0, np.pi, precision, endpoint=True)\n",
    "    arg = np.cos(lp) * k * rm + calib\n",
    "    W = np.exp(-1j*arg)              # Poids possibles\n",
    "    expr = np.zeros((NFrame, precision))   # expression à maximiser : pour chaque frame, array de taille prec\n",
    "    phi_r = np.zeros(NFrame)\n",
    "    \n",
    "    # Approche \"brut-force\" pour chaque frame -> cherche le poids maximal\n",
    "    for frame in range(NFrame):\n",
    "        # Pour chacun des poids\n",
    "        for i in range(precision):\n",
    "            expr[frame][i] = np.linalg.norm(np.abs(er1[frame] + er2[frame]*W[i]))\n",
    "        # Maximisation\n",
    "        index = np.argmax(expr[frame])\n",
    "        phi = lp[index]\n",
    "        phi_r[frame] = phi  \n",
    "    return phi_r\n",
    "\n",
    "if Angle:\n",
    "    phi_r = computeAngle(N_frames, prec, er1, er2, calib_angle)\n",
    "    phi_angle_r = radToDeg(phi_r)\n",
    "    phi_angle_r2 = np.zeros_like(phi_angle_r)\n",
    "    for i in range(len(phi_angle_r2)):\n",
    "        phi_angle_r2[i] = radToDeg(ref1Toref2(phi_r[i]))\n",
    "\n",
    "    print(\"Valeur de l'angle (référence 1) pour le ficher {} : {:.3f}°\".format(os.path.basename(file), np.nanmean(phi_angle_r)))\n",
    "    print(\"Valeur de l'angle (référence 2) pour le ficher {} : {:.3f}°\".format(os.path.basename(file), radToDeg(ref1Toref2(np.nanmean(phi_r))) ))\n",
    "print(\"Done: 'Angle' \")"
   ]
  },
  {
   "cell_type": "markdown",
   "id": "3adada71",
   "metadata": {},
   "source": [
    "### Extraction Maximum Locaux (d,v,angle)"
   ]
  },
  {
   "cell_type": "code",
   "execution_count": 6,
   "id": "9b17518d",
   "metadata": {},
   "outputs": [
    {
     "name": "stdout",
     "output_type": "stream",
     "text": [
      "Done: 'Extraction Maximum Locaux (d,v,angle)'\n"
     ]
    }
   ],
   "source": [
    "def get_max_dist(NFrame, Matrix_corr_ifft, nb_max, neighborhood_size, threshold, index1, index2, index3):\n",
    "    \"\"\"\n",
    "    Description : Cette fonction prend en entrée différents paramètres et renvoie les numpy array vmax et dmax:\n",
    "            Le numpy array vmax contient les valeurs maximales de vitesse à différents instants de temps.\n",
    "            Le numpy array dmax contient les valeurs maximales correspondantes de portée déjà calibrée.\n",
    "    Paramètres :\n",
    "            NFrame : entier représentant le nombre de trames temporelles.\n",
    "            Matrix_corr_ifft : un numpy array 2D représentant la matrice de corrélation pour chaque trame temporelle.\n",
    "            nb_max : entier représentant le nombre maximum de maxima locaux voulant être détectés.\n",
    "            neighborhood_size : entier représentant la taille du voisinage local dans lequel la valeur maximale est considérée.\n",
    "            threshold : valeur flottante représentant la différence minimale requise entre la valeur maximale et minimale dans le voisinage pour qu'elle soit considérée comme un maximum local.\n",
    "            \n",
    "            index1 : entier représentant l'indice de la valeur minimale de vitesse.\n",
    "            index2 : entier représentant l'indice de la valeur maximale de vitesse.\n",
    "            index3 : entier représentant l'indice de la valeur maximale de portée (distance radiale).\n",
    "    Retourne :\n",
    "            vmax : un numpy array 2D contenant les valeurs maximales de vitesse à différents instants de temps. (NFrame x nb_max)\n",
    "            dmax : un numpy array 2D contenant les valeurs maximales correspondantes de portée déjà calibrée.   (NFrame x nb_max)\n",
    "    \"\"\"\n",
    "    vmax = np.zeros((NFrame,nb_max))\n",
    "    dmax = np.zeros((NFrame,nb_max))\n",
    "    counter = 0\n",
    "    for i in range(NFrame):\n",
    "        data_max = filters.maximum_filter(Matrix_corr_ifft[i], neighborhood_size)\n",
    "        maxima = (Matrix_corr_ifft[i] == data_max)\n",
    "        data_min = filters.minimum_filter(Matrix_corr_ifft[i], neighborhood_size)\n",
    "        diff = ((data_max - data_min) > threshold*(np.max(data_max) - np.max(data_min)))\n",
    "        maxima[diff == 0] = 0\n",
    "\n",
    "        labeled, num_objects = ndimage.label(maxima)\n",
    "        slices = ndimage.find_objects(labeled)\n",
    "        x, y = [], []\n",
    "        for dy,dx in slices:\n",
    "            x_center = (dx.start + dx.stop - 1)/2\n",
    "            y_center = (dy.start + dy.stop - 1)/2\n",
    "            if speed[int(x_center)] != 0 and speed[int(x_center)]>speed[index1] and speed[int(x_center)]<speed[index2] and range_[int(y_center)]<range_[index3] and range_[int(y_center)]>0:\n",
    "                x.append(speed[int(x_center)])\n",
    "                y.append(range_[int(y_center)])\n",
    "            \n",
    "        for j in range(nb_max):\n",
    "            if j < len(x) and j < len(y):\n",
    "                vmax[i][j] = x[j]\n",
    "                dmax[i][j] = y[j]\n",
    "            else:\n",
    "                counter += 1\n",
    "\n",
    "#     print(counter)\n",
    "    return vmax,dmax\n",
    "\n",
    "def computeAngle2(NFrame, precision, er1, er2, calib_angle, nb_max):\n",
    "    \"\"\"\n",
    "    Description : Cette fonction prend en entrée plusieurs paramètres et renvoie le tableau phi_r contenant les angles calculés pour chaque trame temporelle.\n",
    "\n",
    "    Paramètres :\n",
    "            NFrame: un entier représentant le nombre de trames temporelles.\n",
    "            precision: un entier représentant la précision de l'angle.\n",
    "            er1: un numpy array 2D représentant la matrice des parties réelles des signaux reçus.\n",
    "            er2: un numpy array 2D représentant la matrice des parties imaginaires des signaux reçus.\n",
    "            calib_angle: un flottant représentant la calibration à ajouter aux angles calculés.\n",
    "            nb_max: un entier représentant le nombre maximum d'angles à calculer.\n",
    "    Retourne :\n",
    "            phi_r: un numpy array 2D contenant les angles calculés pour chaque trame temporelle. (NFrame x nb_max)\n",
    "    \"\"\"\n",
    "    lp = np.linspace(0, np.pi, precision, endpoint=True)\n",
    "    arg = np.cos(lp) * k * rm + calib_angle\n",
    "    W = np.exp(-1j*arg) # Poids possibles\n",
    "    expr = np.zeros((NFrame,precision))\n",
    "    phi_r = np.zeros((NFrame,nb_max))\n",
    "    \n",
    "    for frame in range(NFrame):\n",
    "        for i in range(precision):\n",
    "            expr[frame][i] = np.linalg.norm(np.abs(er1[frame] + er2[frame]*W[i]))\n",
    "        max_ind = argrelextrema(expr[frame], np.greater, order=1)\n",
    "        min_ind = argrelextrema(expr[frame], np.less, order=1)\n",
    "        extremum_ind = np.concatenate((max_ind[0], min_ind[0]))\n",
    "        correlations = expr[frame][extremum_ind]\n",
    "        sorted_ind = extremum_ind[np.argsort(correlations)][::-1]\n",
    "        for i in range(nb_max):\n",
    "            if i < len(sorted_ind):\n",
    "                phi_r[frame][i] = lp[sorted_ind[i]]\n",
    "            else:\n",
    "                phi_r[frame][i] = lp[sorted_ind[len(sorted_ind)-1]]\n",
    "    return phi_r\n",
    "print(\"Done: 'Extraction Maximum Locaux (d,v,angle)'\")"
   ]
  },
  {
   "cell_type": "markdown",
   "id": "b79e1e64",
   "metadata": {},
   "source": [
    "### Extractions des données des maximums locaux (x,y,d,v)"
   ]
  },
  {
   "cell_type": "code",
   "execution_count": 7,
   "id": "b3aa4e64",
   "metadata": {},
   "outputs": [
    {
     "name": "stdout",
     "output_type": "stream",
     "text": [
      "Done: 'nb_max cibles - antenne 1 - distance et vitesse'\n",
      "Done: 'nb_max cibles - antenne 2 - distance et vitesse'\n",
      "Done: 'nb_max cibles - antenne 1 et 2 - angle'\n",
      "Done: 'Extractions des données des maximums locaux (x,y,d,v)' \n"
     ]
    }
   ],
   "source": [
    "def distEucl(x1, y1, x2, y2):\n",
    "    return (x2-y2)**2 + (x1-y1)**2\n",
    "\n",
    "def XY(NFrame, nb_max, neighborhood_size, threshold, calib_angle, index1, index2, index3):\n",
    "    \"\"\"\n",
    "    Description : Cette fonction prend plusieurs paramètres en entrée et renvoie les coordonnées et les valeurs de distance et de vitesse de cibles détectées.\n",
    "\n",
    "    Paramètres :\n",
    "            NFrame : un entier représentant le nombre de trames.\n",
    "            nb_max : un entier représentant le nombre maximal de cibles détectées.\n",
    "            neighborhood_size : un entier représentant la taille du voisinage local dans lequel la valeur maximale est considérée.\n",
    "            threshold : une valeur flottante représentant la différence minimale requise entre la valeur maximale et minimale dans le voisinage pour être considérée comme une valeur maximale locale.\n",
    "            calib_angle : une valeur flottante représentant la calibration à ajouter à l'angle.\n",
    "            index1 : un entier représentant l'indice de la valeur de vitesse minimale.\n",
    "            index2 : un entier représentant l'indice de la valeur de vitesse maximale.\n",
    "            index3 : un entier représentant l'indice de la valeur de distance maximale.\n",
    "    Retourne :\n",
    "            x : un numpy array à deux dimensions contenant les coordonnées x des cibles détectées.          (NFrame//mean_on x nb_max)\n",
    "            y : un numpy array à deux dimensions contenant les coordonnées y des cibles détectées.          (NFrame//mean_on x nb_max)\n",
    "            dmax : un numpy array à deux dimensions contenant les distances maximales des cibles détectées. (NFrame//mean_on x nb_max)\n",
    "            vmax : un numpy array à deux dimensions contenant les vitesses maximales des cibles détectées.  (NFrame//mean_on x nb_max)\n",
    "    \"\"\"\n",
    "    #nb_max cibles - antenne 1 - distance et vitesse:\n",
    "    vmax1, dmax1 = get_max_dist(NFrame, Matrix_corr_ifft_1, nb_max, neighborhood_size, threshold, index1, index2, index3)\n",
    "    print(\"Done: 'nb_max cibles - antenne 1 - distance et vitesse'\")\n",
    "    #nb_max cibles - antenne 1 - distance et vitesse:\n",
    "    vmax2, dmax2 = get_max_dist(NFrame, Matrix_corr_ifft_2, nb_max, neighborhood_size, threshold, index1, index2, index3)\n",
    "    print(\"Done: 'nb_max cibles - antenne 2 - distance et vitesse'\")\n",
    "    #nb_max cibles - antenne 1 et 2 - angle:\n",
    "    phi_r = computeAngle2(NFrame, prec, er1, er2, calib_angle, nb_max)\n",
    "    print(\"Done: 'nb_max cibles - antenne 1 et 2 - angle'\")\n",
    "    \n",
    "    x = np.zeros((NFrame,nb_max))\n",
    "    y = np.zeros((NFrame,nb_max))\n",
    "    dmax = np.zeros((NFrame,nb_max))\n",
    "    vmax = np.zeros((NFrame,nb_max))\n",
    "    \n",
    "    x_temp = np.zeros(nb_max)\n",
    "    y_temp = np.zeros(nb_max)\n",
    "    d_temp = np.zeros(nb_max)\n",
    "    angle_temp = np.zeros(nb_max)\n",
    "    v_temp = np.zeros(nb_max)\n",
    "    \n",
    "    dist_eucl = np.zeros((nb_max,nb_max))\n",
    "\n",
    "    for i in range(NFrame):\n",
    "        for j in range(nb_max):\n",
    "            angle = phi_r[i][j]\n",
    "            dist = np.mean([dmax1[i][j], dmax2[i][j]])\n",
    "            vitesse = np.mean([vmax1[i][j], vmax2[i][j]])\n",
    "            if i == 0:\n",
    "                x[i][j] = dist * np.cos(angle)\n",
    "                y[i][j] = dist * np.sin(angle)\n",
    "                phi_r[i][j] = angle\n",
    "                dmax[i][j] = dist\n",
    "                vmax[i][j] = vitesse\n",
    "            else:\n",
    "                x_temp[j] = dist * np.cos(angle)\n",
    "                y_temp[j] = dist * np.sin(angle)\n",
    "                angle_temp[j] = angle\n",
    "                d_temp[j] = dist\n",
    "                v_temp[j] = vitesse\n",
    "                for k in range(nb_max):\n",
    "                    dist_eucl[k][j] = distEucl(x[i-1][k], y[i-1][k], x_temp[j], y_temp[j])\n",
    "        \n",
    "        if i != 0:\n",
    "            for j in range(nb_max):\n",
    "                index = np.argmin(dist_eucl[j])\n",
    "                x[i][j] = x_temp[index]\n",
    "                y[i][j] = y_temp[index]\n",
    "                phi_r[i][j] = angle_temp[index]\n",
    "                dmax[i][j] = d_temp[index]\n",
    "                vmax[i][j] = v_temp[index]\n",
    "                for k in range(nb_max):\n",
    "                    dist_eucl[k][index] = 1000\n",
    "    return x, y, dmax, vmax, phi_r\n",
    "\n",
    "lim_v_min = -3\n",
    "lim_v_max = 3\n",
    "lim_d_max = 20\n",
    "index1 = np.abs(speed - lim_v_min).argmin()\n",
    "index2 = np.abs(speed - lim_v_max).argmin()\n",
    "index3 = np.abs(range_ - lim_d_max).argmin()\n",
    "neighborhood_size = 30\n",
    "threshold = 0.25\n",
    "x, y, dmax, vmax, phi_r = XY(N_frames, nb_object, neighborhood_size, threshold, calib_angle, index1, index2, index3)\n",
    "print(\"Done: 'Extractions des données des maximums locaux (x,y,d,v)' \")"
   ]
  },
  {
   "cell_type": "markdown",
   "id": "f052d807",
   "metadata": {},
   "source": [
    "### Représentation des données (XY - DV)"
   ]
  },
  {
   "cell_type": "code",
   "execution_count": 8,
   "id": "921abe44",
   "metadata": {},
   "outputs": [
    {
     "data": {
      "image/png": "[encoded data removed]",
      "text/plain": [
       "<Figure size 432x288 with 1 Axes>"
      ]
     },
     "metadata": {
      "needs_background": "light"
     },
     "output_type": "display_data"
    },
    {
     "name": "stdout",
     "output_type": "stream",
     "text": [
      "coordonnee moyenne pour la personne 1 du ficher CSm_straightline_4m-4m.npz : (x; y) = (2.866; 5.140) / (r; θ) = (5.885; 29.145°)\n",
      "coordonnee moyenne pour la personne 2 du ficher CSm_straightline_4m-4m.npz : (x; y) = (-3.741; 5.913) / (r; θ) = (6.997; -32.318°)\n"
     ]
    },
    {
     "data": {
      "image/png": "[encoded data removed]",
      "text/plain": [
       "<Figure size 432x288 with 1 Axes>"
      ]
     },
     "metadata": {
      "needs_background": "light"
     },
     "output_type": "display_data"
    },
    {
     "name": "stdout",
     "output_type": "stream",
     "text": [
      "coordonnee moyenne pour la personne 1 du ficher CSm_straightline_4m-4m.npz : (0.107; 6.098)\n",
      "coordonnee moyenne pour la personne 2 du ficher CSm_straightline_4m-4m.npz : (0.044; 7.194)\n"
     ]
    }
   ],
   "source": [
    "lim_x_min = -5\n",
    "lim_x_max = 5\n",
    "if plotXY:\n",
    "    plt.figure()\n",
    "    # plt.title('Deux personnes : carré et cercle centré à 8 mètre et $\\pm 30^{\\circ}$')\n",
    "    # plt.title('Deux personnes : 2 --> 10 mètres à $40^{\\circ}, -30^{\\circ}$')\n",
    "    plt.title('Deux personnes : $\\pm 4$ mètres')\n",
    "    for count, c in enumerate(mcolors.TABLEAU_COLORS.values()):\n",
    "        if count >= nb_object:\n",
    "            break\n",
    "        plt.plot(x[:,count], y[:,count], \"o\", alpha = 0.5, color=c, label = \"Cible {}\".format(count+1))\n",
    "    \n",
    "    plt.plot([-4, -4], [1, 10], linewidth = 2.75, color = \"tab:orange\", label = \"Reel cible 2\")\n",
    "    plt.plot([4, 4], [1, 10], linewidth = 2.75, color = \"tab:blue\", label = \"Reel cible 1\")\n",
    "        \n",
    "#     plt.plot([-6, 6], [1, 10], linewidth = 2.75, color = \"tab:orange\", label = \"Reel cible 2\")\n",
    "#     plt.plot([6, -6], [1, 10], linewidth = 2.75, color = \"tab:blue\", label = \"Reel cible 1\")\n",
    "\n",
    "#     plt.plot([-1.28558, -6.42788], [1.53209, 7.66044], linewidth = 2.75, color = \"tab:orange\", label = \"Reel cible 2\") #40^o\n",
    "#     plt.plot([-1, -5], [1.73205, 8.66025], linewidth = 2.75, color = \"tab:orange\", label = \"Reel cible 2\")             #30^0\n",
    "#     plt.plot([1, 5], [1.73205, 8.66025], linewidth = 2.75, color = \"tab:blue\", label = \"Reel cible 1\")                 #-30^o\n",
    "\n",
    "#     plt.plot([-2, -2, -6, -6, -2], [9, 5, 5, 9, 9], linewidth = 2.75, color = \"tab:orange\", label = \"Reel cible 2\")    #carre\n",
    "#     ocircle = np.linspace(0,2*np.pi,150)                                                                               #cercle\n",
    "#     xcircle = 4 + 2*np.cos(ocircle)\n",
    "#     ycircle = 7 + 2*np.sin(ocircle)\n",
    "#     plt.plot(xcircle, ycircle, linewidth = 2.75, color = \"tab:blue\", label = \"Reel cible 1\")\n",
    "\n",
    "    plt.xlabel(\"distance horizontale [m]\")\n",
    "    plt.ylabel(\"distance verticale [m]\")\n",
    "    plt.legend(loc = \"lower left\")\n",
    "#     plt.savefig(\"Multicible/Plot_XY/plot_{}_nb_objects_{}.pdf\".format(os.path.basename(file), nb_object))\n",
    "    plt.show()\n",
    "    \n",
    "    for i in range(nb_object):\n",
    "        x_mean = np.nanmean(x[:,i])\n",
    "        y_mean = np.nanmean(y[:,i])\n",
    "        print(\"coordonnee moyenne pour la personne {} du ficher {} : (x; y) = ({:.3f}; {:.3f}) / (r; θ) = ({:.3f}; {:.3f}°)\".format(i+1, os.path.basename(file), x_mean, y_mean, np.sqrt(x_mean**2 + y_mean**2), radToDeg(np.arctan(x_mean/y_mean))))\n",
    "\n",
    "if plotDV:\n",
    "    plt.figure()\n",
    "    plt.title(\"Plot D-V\")\n",
    "    for count, c in enumerate(mcolors.TABLEAU_COLORS.values()):\n",
    "        if count >= nb_object:\n",
    "            break\n",
    "        plt.plot(vmax[:,count], dmax[:,count], \"o\", color=c, label = \"tracking person {}\".format(count+1))\n",
    "    plt.xlabel(\"vitesse [m/s]\")\n",
    "    plt.ylabel(\"distance radiale [m]\")\n",
    "    plt.legend()\n",
    "#     plt.savefig(\"Plot_DV/plot_{}_nb_objects_{}.pdf\".format(os.path.basename(file), nb_object))\n",
    "    plt.show()\n",
    "    \n",
    "    for i in range(nb_object):\n",
    "        print(\"coordonnee moyenne pour la personne {} du ficher {} : ({:.3f}; {:.3f})\".format(i+1, os.path.basename(file), np.nanmean(vmax[:,i]), np.nanmean(dmax[:,i])))"
   ]
  }
 ],
 "metadata": {
  "kernelspec": {
   "display_name": "Python 3",
   "language": "python",
   "name": "python3"
  },
  "language_info": {
   "codemirror_mode": {
    "name": "ipython",
    "version": 3
   },
   "file_extension": ".py",
   "mimetype": "text/x-python",
   "name": "python",
   "nbconvert_exporter": "python",
   "pygments_lexer": "ipython3",
   "version": "3.8.8"
  }
 },
 "nbformat": 4,
 "nbformat_minor": 5
}
